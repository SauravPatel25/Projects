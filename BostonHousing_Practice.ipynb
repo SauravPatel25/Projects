{
 "cells": [
  {
   "cell_type": "code",
   "execution_count": 1,
   "id": "31fc1c78",
   "metadata": {},
   "outputs": [],
   "source": [
    "import numpy as np\n",
    "import pandas as pd\n",
    "import matplotlib.pyplot as plt\n",
    "import seaborn as sb\n",
    "import warnings\n",
    "warnings.filterwarnings('ignore')"
   ]
  },
  {
   "cell_type": "code",
   "execution_count": 2,
   "id": "1e6bb2b1",
   "metadata": {},
   "outputs": [],
   "source": [
    "#The Boston Housing Dataset is a derived from information collected by the U.S. \n",
    "#Census Service concerning housing in the area of Boston MA. The following describes the dataset columns:\n",
    "\n",
    "#CRIM - per capita crime rate by town\n",
    "#ZN - proportion of residential land zoned for lots over 25,000 sq.ft.\n",
    "#INDUS - proportion of non-retail business acres per town.\n",
    "#CHAS - Charles River dummy variable (1 if tract bounds river; 0 otherwise)\n",
    "#NOX - nitric oxides concentration (parts per 10 million)\n",
    "#RM - average number of rooms per dwelling\n",
    "#AGE - proportion of owner-occupied units built prior to 1940\n",
    "#DIS - weighted distances to five Boston employment centres\n",
    "#RAD - index of accessibility to radial highways\n",
    "#TAX - full-value property-tax rate per $10,000\n",
    "#PTRATIO - pupil-teacher ratio by town\n",
    "#B - 1000(Bk - 0.63)^2 where Bk is the proportion of blacks by town\n",
    "#LSTAT - % lower status of the population\n",
    "#MEDV - Median value of owner-occupied homes in $1000's\n",
    "#from the above discription of Columns :\n",
    "#inputs are [CRIM, ZN, INDUS, CHAS, NOX, RM, AGE, DIS, RAD, TAX, PTRATIO, B, LSTAT]\n",
    "#output is [MEDV]"
   ]
  },
  {
   "cell_type": "code",
   "execution_count": 3,
   "id": "cd569eea",
   "metadata": {},
   "outputs": [],
   "source": [
    "#Load dataset BostonHousing.csv file\n",
    "df=pd.read_csv(\"BostonHousing.csv\")"
   ]
  },
  {
   "cell_type": "code",
   "execution_count": 4,
   "id": "c7749532",
   "metadata": {},
   "outputs": [
    {
     "data": {
      "text/html": [
       "<div>\n",
       "<style scoped>\n",
       "    .dataframe tbody tr th:only-of-type {\n",
       "        vertical-align: middle;\n",
       "    }\n",
       "\n",
       "    .dataframe tbody tr th {\n",
       "        vertical-align: top;\n",
       "    }\n",
       "\n",
       "    .dataframe thead th {\n",
       "        text-align: right;\n",
       "    }\n",
       "</style>\n",
       "<table border=\"1\" class=\"dataframe\">\n",
       "  <thead>\n",
       "    <tr style=\"text-align: right;\">\n",
       "      <th></th>\n",
       "      <th>crim</th>\n",
       "      <th>zn</th>\n",
       "      <th>indus</th>\n",
       "      <th>chas</th>\n",
       "      <th>nox</th>\n",
       "      <th>rm</th>\n",
       "      <th>age</th>\n",
       "      <th>dis</th>\n",
       "      <th>rad</th>\n",
       "      <th>tax</th>\n",
       "      <th>ptratio</th>\n",
       "      <th>b</th>\n",
       "      <th>lstat</th>\n",
       "      <th>medv</th>\n",
       "    </tr>\n",
       "  </thead>\n",
       "  <tbody>\n",
       "    <tr>\n",
       "      <th>0</th>\n",
       "      <td>0.00632</td>\n",
       "      <td>18.0</td>\n",
       "      <td>2.31</td>\n",
       "      <td>0</td>\n",
       "      <td>0.538</td>\n",
       "      <td>6.575</td>\n",
       "      <td>65.2</td>\n",
       "      <td>4.0900</td>\n",
       "      <td>1</td>\n",
       "      <td>296</td>\n",
       "      <td>15.3</td>\n",
       "      <td>396.90</td>\n",
       "      <td>4.98</td>\n",
       "      <td>24.0</td>\n",
       "    </tr>\n",
       "    <tr>\n",
       "      <th>1</th>\n",
       "      <td>0.02731</td>\n",
       "      <td>0.0</td>\n",
       "      <td>7.07</td>\n",
       "      <td>0</td>\n",
       "      <td>0.469</td>\n",
       "      <td>6.421</td>\n",
       "      <td>78.9</td>\n",
       "      <td>4.9671</td>\n",
       "      <td>2</td>\n",
       "      <td>242</td>\n",
       "      <td>17.8</td>\n",
       "      <td>396.90</td>\n",
       "      <td>9.14</td>\n",
       "      <td>21.6</td>\n",
       "    </tr>\n",
       "    <tr>\n",
       "      <th>2</th>\n",
       "      <td>0.02729</td>\n",
       "      <td>0.0</td>\n",
       "      <td>7.07</td>\n",
       "      <td>0</td>\n",
       "      <td>0.469</td>\n",
       "      <td>7.185</td>\n",
       "      <td>61.1</td>\n",
       "      <td>4.9671</td>\n",
       "      <td>2</td>\n",
       "      <td>242</td>\n",
       "      <td>17.8</td>\n",
       "      <td>392.83</td>\n",
       "      <td>4.03</td>\n",
       "      <td>34.7</td>\n",
       "    </tr>\n",
       "    <tr>\n",
       "      <th>3</th>\n",
       "      <td>0.03237</td>\n",
       "      <td>0.0</td>\n",
       "      <td>2.18</td>\n",
       "      <td>0</td>\n",
       "      <td>0.458</td>\n",
       "      <td>6.998</td>\n",
       "      <td>45.8</td>\n",
       "      <td>6.0622</td>\n",
       "      <td>3</td>\n",
       "      <td>222</td>\n",
       "      <td>18.7</td>\n",
       "      <td>394.63</td>\n",
       "      <td>2.94</td>\n",
       "      <td>33.4</td>\n",
       "    </tr>\n",
       "    <tr>\n",
       "      <th>4</th>\n",
       "      <td>0.06905</td>\n",
       "      <td>0.0</td>\n",
       "      <td>2.18</td>\n",
       "      <td>0</td>\n",
       "      <td>0.458</td>\n",
       "      <td>7.147</td>\n",
       "      <td>54.2</td>\n",
       "      <td>6.0622</td>\n",
       "      <td>3</td>\n",
       "      <td>222</td>\n",
       "      <td>18.7</td>\n",
       "      <td>396.90</td>\n",
       "      <td>5.33</td>\n",
       "      <td>36.2</td>\n",
       "    </tr>\n",
       "  </tbody>\n",
       "</table>\n",
       "</div>"
      ],
      "text/plain": [
       "      crim    zn  indus  chas    nox     rm   age     dis  rad  tax  ptratio  \\\n",
       "0  0.00632  18.0   2.31     0  0.538  6.575  65.2  4.0900    1  296     15.3   \n",
       "1  0.02731   0.0   7.07     0  0.469  6.421  78.9  4.9671    2  242     17.8   \n",
       "2  0.02729   0.0   7.07     0  0.469  7.185  61.1  4.9671    2  242     17.8   \n",
       "3  0.03237   0.0   2.18     0  0.458  6.998  45.8  6.0622    3  222     18.7   \n",
       "4  0.06905   0.0   2.18     0  0.458  7.147  54.2  6.0622    3  222     18.7   \n",
       "\n",
       "        b  lstat  medv  \n",
       "0  396.90   4.98  24.0  \n",
       "1  396.90   9.14  21.6  \n",
       "2  392.83   4.03  34.7  \n",
       "3  394.63   2.94  33.4  \n",
       "4  396.90   5.33  36.2  "
      ]
     },
     "execution_count": 4,
     "metadata": {},
     "output_type": "execute_result"
    }
   ],
   "source": [
    "#to see first 5 records\n",
    "df.head()"
   ]
  },
  {
   "cell_type": "code",
   "execution_count": 5,
   "id": "5cf4427c",
   "metadata": {},
   "outputs": [
    {
     "data": {
      "text/plain": [
       "crim       0\n",
       "zn         0\n",
       "indus      0\n",
       "chas       0\n",
       "nox        0\n",
       "rm         0\n",
       "age        0\n",
       "dis        0\n",
       "rad        0\n",
       "tax        0\n",
       "ptratio    0\n",
       "b          0\n",
       "lstat      0\n",
       "medv       0\n",
       "dtype: int64"
      ]
     },
     "execution_count": 5,
     "metadata": {},
     "output_type": "execute_result"
    }
   ],
   "source": [
    "#to see the null values\n",
    "df.isnull().sum()"
   ]
  },
  {
   "cell_type": "code",
   "execution_count": 6,
   "id": "0bb46e1e",
   "metadata": {},
   "outputs": [
    {
     "data": {
      "image/png": "[encoded data removed]",
      "text/plain": [
       "<Figure size 432x288 with 2 Axes>"
      ]
     },
     "metadata": {
      "needs_background": "light"
     },
     "output_type": "display_data"
    }
   ],
   "source": [
    "#to see the null values in visualize form\n",
    "sb.heatmap(df.isnull())\n",
    "plt.show()"
   ]
  },
  {
   "cell_type": "code",
   "execution_count": 7,
   "id": "0c300723",
   "metadata": {},
   "outputs": [
    {
     "data": {
      "text/plain": [
       "(506, 14)"
      ]
     },
     "execution_count": 7,
     "metadata": {},
     "output_type": "execute_result"
    }
   ],
   "source": [
    "#to see the no of rows and cols\n",
    "df.shape"
   ]
  },
  {
   "cell_type": "code",
   "execution_count": 8,
   "id": "eecf7c46",
   "metadata": {},
   "outputs": [
    {
     "data": {
      "text/plain": [
       "crim       float64\n",
       "zn         float64\n",
       "indus      float64\n",
       "chas         int64\n",
       "nox        float64\n",
       "rm         float64\n",
       "age        float64\n",
       "dis        float64\n",
       "rad          int64\n",
       "tax          int64\n",
       "ptratio    float64\n",
       "b          float64\n",
       "lstat      float64\n",
       "medv       float64\n",
       "dtype: object"
      ]
     },
     "execution_count": 8,
     "metadata": {},
     "output_type": "execute_result"
    }
   ],
   "source": [
    "#to see the datatypes\n",
    "df.dtypes"
   ]
  },
  {
   "cell_type": "code",
   "execution_count": 9,
   "id": "eff61e00",
   "metadata": {},
   "outputs": [
    {
     "data": {
      "image/png": "[encoded data removed]",
      "text/plain": [
       "<Figure size 720x576 with 2 Axes>"
      ]
     },
     "metadata": {
      "needs_background": "light"
     },
     "output_type": "display_data"
    }
   ],
   "source": [
    "#to see the co relation\n",
    "plt.figure(figsize=(10,8))\n",
    "sb.heatmap(df.corr(),annot=True)\n",
    "plt.show()"
   ]
  },
  {
   "cell_type": "code",
   "execution_count": 10,
   "id": "8fc435aa",
   "metadata": {},
   "outputs": [],
   "source": [
    "#we can see input cols indus nox tax ptratio lstat are imp as they are corelated with output\n",
    "#corelation should be more then 0.5 or close to -0.5"
   ]
  },
  {
   "cell_type": "code",
   "execution_count": 11,
   "id": "69338c63",
   "metadata": {},
   "outputs": [
    {
     "data": {
      "text/html": [
       "<div>\n",
       "<style scoped>\n",
       "    .dataframe tbody tr th:only-of-type {\n",
       "        vertical-align: middle;\n",
       "    }\n",
       "\n",
       "    .dataframe tbody tr th {\n",
       "        vertical-align: top;\n",
       "    }\n",
       "\n",
       "    .dataframe thead th {\n",
       "        text-align: right;\n",
       "    }\n",
       "</style>\n",
       "<table border=\"1\" class=\"dataframe\">\n",
       "  <thead>\n",
       "    <tr style=\"text-align: right;\">\n",
       "      <th></th>\n",
       "      <th>indus</th>\n",
       "      <th>nox</th>\n",
       "      <th>rm</th>\n",
       "      <th>tax</th>\n",
       "      <th>ptratio</th>\n",
       "      <th>lstat</th>\n",
       "      <th>medv</th>\n",
       "    </tr>\n",
       "  </thead>\n",
       "  <tbody>\n",
       "    <tr>\n",
       "      <th>0</th>\n",
       "      <td>2.31</td>\n",
       "      <td>0.538</td>\n",
       "      <td>6.575</td>\n",
       "      <td>296</td>\n",
       "      <td>15.3</td>\n",
       "      <td>4.98</td>\n",
       "      <td>24.0</td>\n",
       "    </tr>\n",
       "    <tr>\n",
       "      <th>1</th>\n",
       "      <td>7.07</td>\n",
       "      <td>0.469</td>\n",
       "      <td>6.421</td>\n",
       "      <td>242</td>\n",
       "      <td>17.8</td>\n",
       "      <td>9.14</td>\n",
       "      <td>21.6</td>\n",
       "    </tr>\n",
       "    <tr>\n",
       "      <th>2</th>\n",
       "      <td>7.07</td>\n",
       "      <td>0.469</td>\n",
       "      <td>7.185</td>\n",
       "      <td>242</td>\n",
       "      <td>17.8</td>\n",
       "      <td>4.03</td>\n",
       "      <td>34.7</td>\n",
       "    </tr>\n",
       "    <tr>\n",
       "      <th>3</th>\n",
       "      <td>2.18</td>\n",
       "      <td>0.458</td>\n",
       "      <td>6.998</td>\n",
       "      <td>222</td>\n",
       "      <td>18.7</td>\n",
       "      <td>2.94</td>\n",
       "      <td>33.4</td>\n",
       "    </tr>\n",
       "    <tr>\n",
       "      <th>4</th>\n",
       "      <td>2.18</td>\n",
       "      <td>0.458</td>\n",
       "      <td>7.147</td>\n",
       "      <td>222</td>\n",
       "      <td>18.7</td>\n",
       "      <td>5.33</td>\n",
       "      <td>36.2</td>\n",
       "    </tr>\n",
       "  </tbody>\n",
       "</table>\n",
       "</div>"
      ],
      "text/plain": [
       "   indus    nox     rm  tax  ptratio  lstat  medv\n",
       "0   2.31  0.538  6.575  296     15.3   4.98  24.0\n",
       "1   7.07  0.469  6.421  242     17.8   9.14  21.6\n",
       "2   7.07  0.469  7.185  242     17.8   4.03  34.7\n",
       "3   2.18  0.458  6.998  222     18.7   2.94  33.4\n",
       "4   2.18  0.458  7.147  222     18.7   5.33  36.2"
      ]
     },
     "execution_count": 11,
     "metadata": {},
     "output_type": "execute_result"
    }
   ],
   "source": [
    "#feature selection\n",
    "col=df[['crim','zn','chas','age','dis','rad','b']] #select those col which are to be dropped \n",
    "df.drop(col,axis=1,inplace=True)\n",
    "df.head()"
   ]
  },
  {
   "cell_type": "code",
   "execution_count": 12,
   "id": "9bfb55fb",
   "metadata": {},
   "outputs": [
    {
     "data": {
      "image/png": "[encoded data removed]",
      "text/plain": [
       "<Figure size 432x288 with 2 Axes>"
      ]
     },
     "metadata": {
      "needs_background": "light"
     },
     "output_type": "display_data"
    }
   ],
   "source": [
    "#to see the co relation\n",
    "sb.heatmap(df.corr(),annot=True)\n",
    "plt.show()"
   ]
  },
  {
   "cell_type": "code",
   "execution_count": 13,
   "id": "2d20f456",
   "metadata": {},
   "outputs": [],
   "source": [
    "#we can see lstat is co related with every other input , means there is multi colinearity , so we ll remove the cols whose \n",
    "#corelation with output is not imp \n",
    "#we see lstat is the only imp input , every other is not imp or co related with lstat "
   ]
  },
  {
   "cell_type": "code",
   "execution_count": 14,
   "id": "47940f0a",
   "metadata": {},
   "outputs": [
    {
     "data": {
      "text/html": [
       "<div>\n",
       "<style scoped>\n",
       "    .dataframe tbody tr th:only-of-type {\n",
       "        vertical-align: middle;\n",
       "    }\n",
       "\n",
       "    .dataframe tbody tr th {\n",
       "        vertical-align: top;\n",
       "    }\n",
       "\n",
       "    .dataframe thead th {\n",
       "        text-align: right;\n",
       "    }\n",
       "</style>\n",
       "<table border=\"1\" class=\"dataframe\">\n",
       "  <thead>\n",
       "    <tr style=\"text-align: right;\">\n",
       "      <th></th>\n",
       "      <th>lstat</th>\n",
       "      <th>medv</th>\n",
       "    </tr>\n",
       "  </thead>\n",
       "  <tbody>\n",
       "    <tr>\n",
       "      <th>0</th>\n",
       "      <td>4.98</td>\n",
       "      <td>24.0</td>\n",
       "    </tr>\n",
       "    <tr>\n",
       "      <th>1</th>\n",
       "      <td>9.14</td>\n",
       "      <td>21.6</td>\n",
       "    </tr>\n",
       "    <tr>\n",
       "      <th>2</th>\n",
       "      <td>4.03</td>\n",
       "      <td>34.7</td>\n",
       "    </tr>\n",
       "    <tr>\n",
       "      <th>3</th>\n",
       "      <td>2.94</td>\n",
       "      <td>33.4</td>\n",
       "    </tr>\n",
       "    <tr>\n",
       "      <th>4</th>\n",
       "      <td>5.33</td>\n",
       "      <td>36.2</td>\n",
       "    </tr>\n",
       "  </tbody>\n",
       "</table>\n",
       "</div>"
      ],
      "text/plain": [
       "   lstat  medv\n",
       "0   4.98  24.0\n",
       "1   9.14  21.6\n",
       "2   4.03  34.7\n",
       "3   2.94  33.4\n",
       "4   5.33  36.2"
      ]
     },
     "execution_count": 14,
     "metadata": {},
     "output_type": "execute_result"
    }
   ],
   "source": [
    "#feature selection\n",
    "col=df[['indus','nox','rm','tax','ptratio',]] #select those col which are to be dropped \n",
    "df.drop(col,axis=1,inplace=True)\n",
    "df.head()"
   ]
  },
  {
   "cell_type": "code",
   "execution_count": 15,
   "id": "69ae5d97",
   "metadata": {},
   "outputs": [],
   "source": [
    "#our multi colinearity is solved i.e assumption 1"
   ]
  },
  {
   "cell_type": "code",
   "execution_count": 16,
   "id": "a81b91ba",
   "metadata": {},
   "outputs": [
    {
     "data": {
      "image/png": "[encoded data removed]",
      "text/plain": [
       "<Figure size 432x288 with 2 Axes>"
      ]
     },
     "metadata": {
      "needs_background": "light"
     },
     "output_type": "display_data"
    }
   ],
   "source": [
    "#to see the co relation\n",
    "sb.heatmap(df.corr(),annot=True)\n",
    "plt.show()\n",
    "#linear relation satisfied"
   ]
  },
  {
   "cell_type": "code",
   "execution_count": 17,
   "id": "4ecfd505",
   "metadata": {},
   "outputs": [
    {
     "data": {
      "image/png": "[encoded data removed]",
      "text/plain": [
       "<Figure size 432x288 with 1 Axes>"
      ]
     },
     "metadata": {
      "needs_background": "light"
     },
     "output_type": "display_data"
    }
   ],
   "source": [
    "#use scatterplot to see hetroskedastic or homoskedastic\n",
    "sb.scatterplot(data=df,x='lstat',y='medv')\n",
    "plt.show()"
   ]
  },
  {
   "cell_type": "code",
   "execution_count": 18,
   "id": "989a4e7b",
   "metadata": {},
   "outputs": [],
   "source": [
    "#select input and output\n",
    "X=df[['lstat']]\n",
    "Y=df['medv']"
   ]
  },
  {
   "cell_type": "code",
   "execution_count": 19,
   "id": "ef03641d",
   "metadata": {},
   "outputs": [
    {
     "data": {
      "text/html": [
       "<div>\n",
       "<style scoped>\n",
       "    .dataframe tbody tr th:only-of-type {\n",
       "        vertical-align: middle;\n",
       "    }\n",
       "\n",
       "    .dataframe tbody tr th {\n",
       "        vertical-align: top;\n",
       "    }\n",
       "\n",
       "    .dataframe thead th {\n",
       "        text-align: right;\n",
       "    }\n",
       "</style>\n",
       "<table border=\"1\" class=\"dataframe\">\n",
       "  <thead>\n",
       "    <tr style=\"text-align: right;\">\n",
       "      <th></th>\n",
       "      <th>lstat</th>\n",
       "    </tr>\n",
       "  </thead>\n",
       "  <tbody>\n",
       "    <tr>\n",
       "      <th>0</th>\n",
       "      <td>4.98</td>\n",
       "    </tr>\n",
       "    <tr>\n",
       "      <th>1</th>\n",
       "      <td>9.14</td>\n",
       "    </tr>\n",
       "    <tr>\n",
       "      <th>2</th>\n",
       "      <td>4.03</td>\n",
       "    </tr>\n",
       "    <tr>\n",
       "      <th>3</th>\n",
       "      <td>2.94</td>\n",
       "    </tr>\n",
       "    <tr>\n",
       "      <th>4</th>\n",
       "      <td>5.33</td>\n",
       "    </tr>\n",
       "    <tr>\n",
       "      <th>...</th>\n",
       "      <td>...</td>\n",
       "    </tr>\n",
       "    <tr>\n",
       "      <th>501</th>\n",
       "      <td>9.67</td>\n",
       "    </tr>\n",
       "    <tr>\n",
       "      <th>502</th>\n",
       "      <td>9.08</td>\n",
       "    </tr>\n",
       "    <tr>\n",
       "      <th>503</th>\n",
       "      <td>5.64</td>\n",
       "    </tr>\n",
       "    <tr>\n",
       "      <th>504</th>\n",
       "      <td>6.48</td>\n",
       "    </tr>\n",
       "    <tr>\n",
       "      <th>505</th>\n",
       "      <td>7.88</td>\n",
       "    </tr>\n",
       "  </tbody>\n",
       "</table>\n",
       "<p>506 rows × 1 columns</p>\n",
       "</div>"
      ],
      "text/plain": [
       "     lstat\n",
       "0     4.98\n",
       "1     9.14\n",
       "2     4.03\n",
       "3     2.94\n",
       "4     5.33\n",
       "..     ...\n",
       "501   9.67\n",
       "502   9.08\n",
       "503   5.64\n",
       "504   6.48\n",
       "505   7.88\n",
       "\n",
       "[506 rows x 1 columns]"
      ]
     },
     "execution_count": 19,
     "metadata": {},
     "output_type": "execute_result"
    }
   ],
   "source": [
    "X"
   ]
  },
  {
   "cell_type": "code",
   "execution_count": 20,
   "id": "9f4d7122",
   "metadata": {},
   "outputs": [
    {
     "data": {
      "text/plain": [
       "0      24.0\n",
       "1      21.6\n",
       "2      34.7\n",
       "3      33.4\n",
       "4      36.2\n",
       "       ... \n",
       "501    22.4\n",
       "502    20.6\n",
       "503    23.9\n",
       "504    22.0\n",
       "505    11.9\n",
       "Name: medv, Length: 506, dtype: float64"
      ]
     },
     "execution_count": 20,
     "metadata": {},
     "output_type": "execute_result"
    }
   ],
   "source": [
    "Y"
   ]
  },
  {
   "cell_type": "code",
   "execution_count": 21,
   "id": "052a305a",
   "metadata": {},
   "outputs": [],
   "source": [
    "#to split\n",
    "from sklearn.model_selection import train_test_split"
   ]
  },
  {
   "cell_type": "code",
   "execution_count": 22,
   "id": "7f116180",
   "metadata": {},
   "outputs": [],
   "source": [
    "#train_test_split\n",
    "#create object of train_test_split\n",
    "X_train,X_test,Y_train,Y_test=train_test_split(X,Y,test_size=0.3,random_state=1)"
   ]
  },
  {
   "cell_type": "code",
   "execution_count": 23,
   "id": "6c4466ef",
   "metadata": {},
   "outputs": [],
   "source": [
    "#to apply scaling \n",
    "from sklearn.preprocessing import StandardScaler\n",
    "#create object\n",
    "ss=StandardScaler()\n",
    "X_train=ss.fit_transform(X_train)\n",
    "X_test=ss.transform(X_test)"
   ]
  },
  {
   "cell_type": "code",
   "execution_count": 24,
   "id": "231a8924",
   "metadata": {},
   "outputs": [
    {
     "data": {
      "text/plain": [
       "array([[-0.64691635],\n",
       "       [ 0.20337764],\n",
       "       [ 1.13897622],\n",
       "       [-1.18901317],\n",
       "       [-0.8037667 ],\n",
       "       [-0.71983801],\n",
       "       [ 0.23364701],\n",
       "       [-0.47080368],\n",
       "       [-1.29220419],\n",
       "       [-1.05555279],\n",
       "       [-0.880816  ],\n",
       "       [ 0.37673856],\n",
       "       [ 0.15659772],\n",
       "       [-0.00438027],\n",
       "       [-0.9083336 ],\n",
       "       [ 1.47606688],\n",
       "       [ 0.58174471],\n",
       "       [-0.85880191],\n",
       "       [-0.36761266],\n",
       "       [ 0.7014463 ],\n",
       "       [ 0.59412764],\n",
       "       [-0.9991417 ],\n",
       "       [ 0.24740581],\n",
       "       [-0.74597973],\n",
       "       [-0.86430543],\n",
       "       [-0.1282095 ],\n",
       "       [-1.54536616],\n",
       "       [-0.5739947 ],\n",
       "       [ 1.16924558],\n",
       "       [-0.65517164],\n",
       "       [ 1.13622446],\n",
       "       [-0.59876054],\n",
       "       [ 1.59576846],\n",
       "       [ 0.25428521],\n",
       "       [-0.38687499],\n",
       "       [-0.87806424],\n",
       "       [-0.51483185],\n",
       "       [ 0.19374648],\n",
       "       [ 0.37811444],\n",
       "       [ 0.71107746],\n",
       "       [ 0.00525089],\n",
       "       [ 0.06578962],\n",
       "       [-0.6991998 ],\n",
       "       [ 0.23915053],\n",
       "       [-1.15186441],\n",
       "       [-0.50520069],\n",
       "       [-1.17112673],\n",
       "       [-0.56161178],\n",
       "       [ 0.4991919 ],\n",
       "       [ 2.94550699],\n",
       "       [-0.49281776],\n",
       "       [ 0.59275176],\n",
       "       [-0.04015316],\n",
       "       [-0.92071652],\n",
       "       [-1.0266593 ],\n",
       "       [-0.72396565],\n",
       "       [-0.09656425],\n",
       "       [ 0.63540404],\n",
       "       [-0.45704488],\n",
       "       [ 0.23227113],\n",
       "       [-1.1381056 ],\n",
       "       [-0.3717403 ],\n",
       "       [ 0.05203082],\n",
       "       [-0.97162409],\n",
       "       [ 1.71271828],\n",
       "       [ 1.14998326],\n",
       "       [-0.3854991 ],\n",
       "       [-0.48593836],\n",
       "       [-0.32771213],\n",
       "       [ 0.44690845],\n",
       "       [ 0.56936179],\n",
       "       [-0.23140052],\n",
       "       [-0.87806424],\n",
       "       [-1.02803518],\n",
       "       [-1.09820508],\n",
       "       [ 1.21327375],\n",
       "       [ 0.48268134],\n",
       "       [-1.21102726],\n",
       "       [ 0.61614172],\n",
       "       [ 0.7014463 ],\n",
       "       [-0.94823413],\n",
       "       [-0.18049295],\n",
       "       [ 1.52972621],\n",
       "       [-0.85880191],\n",
       "       [-0.16811002],\n",
       "       [-1.35549469],\n",
       "       [-1.34861528],\n",
       "       [-0.38962675],\n",
       "       [ 0.15659772],\n",
       "       [ 2.89735118],\n",
       "       [-0.13096126],\n",
       "       [-1.3266012 ],\n",
       "       [-0.11307481],\n",
       "       [-1.29770771],\n",
       "       [-0.2740528 ],\n",
       "       [-0.06354313],\n",
       "       [-1.15599205],\n",
       "       [ 0.70007042],\n",
       "       [ 0.78675087],\n",
       "       [ 2.04155367],\n",
       "       [-1.37338113],\n",
       "       [-0.1282095 ],\n",
       "       [ 0.93672182],\n",
       "       [-0.97299997],\n",
       "       [ 0.44828433],\n",
       "       [-0.39237851],\n",
       "       [-0.55473238],\n",
       "       [-0.70332744],\n",
       "       [-0.07317429],\n",
       "       [-1.05004927],\n",
       "       [ 1.88195156],\n",
       "       [ 0.23089525],\n",
       "       [-1.26606247],\n",
       "       [ 0.9380977 ],\n",
       "       [-1.24404838],\n",
       "       [-0.48731424],\n",
       "       [ 1.84893043],\n",
       "       [-0.62352639],\n",
       "       [-0.9083336 ],\n",
       "       [ 0.71245334],\n",
       "       [-0.89182304],\n",
       "       [ 0.2969375 ],\n",
       "       [-1.28945243],\n",
       "       [-0.89870244],\n",
       "       [-0.87668836],\n",
       "       [-0.4694278 ],\n",
       "       [-0.20801055],\n",
       "       [ 0.56798591],\n",
       "       [ 1.899838  ],\n",
       "       [ 1.51596741],\n",
       "       [-0.09518837],\n",
       "       [-0.225897  ],\n",
       "       [-0.53134241],\n",
       "       [ 1.64392427],\n",
       "       [-0.45979664],\n",
       "       [ 2.33461616],\n",
       "       [ 2.02917074],\n",
       "       [-0.93172357],\n",
       "       [ 1.2586778 ],\n",
       "       [ 1.76500173],\n",
       "       [-0.41714435],\n",
       "       [-0.02226672],\n",
       "       [-0.80101494],\n",
       "       [ 3.44082389],\n",
       "       [-1.12159504],\n",
       "       [-0.30569805],\n",
       "       [-0.81890139],\n",
       "       [ 2.2135387 ],\n",
       "       [ 2.45569362],\n",
       "       [ 1.05367164],\n",
       "       [-0.20388291],\n",
       "       [ 0.74134682],\n",
       "       [-0.45154136],\n",
       "       [-0.4763072 ],\n",
       "       [ 1.9837667 ],\n",
       "       [-0.0442808 ],\n",
       "       [-0.67580984],\n",
       "       [ 0.63815581],\n",
       "       [-0.3786197 ],\n",
       "       [-1.11471564],\n",
       "       [-0.91796476],\n",
       "       [-0.33871918],\n",
       "       [ 0.65604225],\n",
       "       [-0.76661794],\n",
       "       [ 0.11944895],\n",
       "       [-0.47355544],\n",
       "       [-0.41164083],\n",
       "       [-1.15599205],\n",
       "       [ 0.22401585],\n",
       "       [ 0.45929137],\n",
       "       [ 0.14008715],\n",
       "       [-0.28781161],\n",
       "       [ 0.59825528],\n",
       "       [-1.1312262 ],\n",
       "       [-0.12683362],\n",
       "       [ 0.42214261],\n",
       "       [ 0.54734771],\n",
       "       [ 0.3038169 ],\n",
       "       [ 0.90232481],\n",
       "       [-1.06105631],\n",
       "       [-0.45016548],\n",
       "       [-0.98951054],\n",
       "       [ 0.57624119],\n",
       "       [ 1.01239523],\n",
       "       [ 3.0005422 ],\n",
       "       [ 1.36462058],\n",
       "       [-0.4831866 ],\n",
       "       [-1.20414786],\n",
       "       [-0.34559858],\n",
       "       [-0.79413554],\n",
       "       [ 0.33133451],\n",
       "       [ 1.46368396],\n",
       "       [ 0.20200176],\n",
       "       [ 1.85580983],\n",
       "       [ 0.25290933],\n",
       "       [-0.39237851],\n",
       "       [-0.0236426 ],\n",
       "       [-1.18075789],\n",
       "       [-0.87256072],\n",
       "       [-0.71158273],\n",
       "       [ 0.1923706 ],\n",
       "       [-1.12021916],\n",
       "       [ 3.30461174],\n",
       "       [-0.67580984],\n",
       "       [ 0.06578962],\n",
       "       [-0.44741372],\n",
       "       [-0.04978432],\n",
       "       [-1.16424733],\n",
       "       [-0.61251935],\n",
       "       [-1.33485648],\n",
       "       [ 0.02588909],\n",
       "       [-0.32633625],\n",
       "       [-1.09132568],\n",
       "       [ 1.54073325],\n",
       "       [ 2.11309944],\n",
       "       [-1.35549469],\n",
       "       [-0.11582657],\n",
       "       [-0.33046389],\n",
       "       [ 0.02038557],\n",
       "       [ 1.03028168],\n",
       "       [ 0.0946831 ],\n",
       "       [-0.22314523],\n",
       "       [ 0.59275176],\n",
       "       [-0.21764171],\n",
       "       [-1.23992074],\n",
       "       [-0.4763072 ],\n",
       "       [ 2.4295519 ],\n",
       "       [-0.04015316],\n",
       "       [-0.21351407],\n",
       "       [ 0.5198301 ],\n",
       "       [ 1.10870685],\n",
       "       [ 1.51596741],\n",
       "       [-0.7060792 ],\n",
       "       [-0.5533565 ],\n",
       "       [-1.17112673],\n",
       "       [-0.37036442],\n",
       "       [-0.23552816],\n",
       "       [ 0.29418574],\n",
       "       [ 1.1678697 ],\n",
       "       [ 1.48982568],\n",
       "       [-1.2289137 ],\n",
       "       [-1.05692867],\n",
       "       [-0.97024821],\n",
       "       [-1.29633183],\n",
       "       [ 0.14146303],\n",
       "       [-0.83403607],\n",
       "       [-1.00189346],\n",
       "       [-1.27019011],\n",
       "       [-0.83816371],\n",
       "       [-1.00189346],\n",
       "       [ 0.04377553],\n",
       "       [ 0.44966021],\n",
       "       [-0.59050526],\n",
       "       [-1.08169451],\n",
       "       [-0.85054663],\n",
       "       [-0.95924117],\n",
       "       [-1.06931159],\n",
       "       [ 1.51459153],\n",
       "       [-0.62215051],\n",
       "       [-0.7693697 ],\n",
       "       [ 1.85168219],\n",
       "       [ 1.42103167],\n",
       "       [ 0.25153345],\n",
       "       [-0.73772445],\n",
       "       [ 0.54184419],\n",
       "       [-1.27431775],\n",
       "       [-0.75010737],\n",
       "       [ 1.12521742],\n",
       "       [ 0.2831787 ],\n",
       "       [ 0.63815581],\n",
       "       [ 1.11696213],\n",
       "       [-1.11609152],\n",
       "       [ 1.96725613],\n",
       "       [-1.37475701],\n",
       "       [-0.34559858],\n",
       "       [ 0.16072536],\n",
       "       [-0.08693309],\n",
       "       [ 0.38912148],\n",
       "       [-1.36925349],\n",
       "       [ 0.79775791],\n",
       "       [-1.35274292],\n",
       "       [ 0.05065494],\n",
       "       [ 0.48818486],\n",
       "       [-1.2220343 ],\n",
       "       [-0.67580984],\n",
       "       [-0.61802287],\n",
       "       [ 0.39600088],\n",
       "       [-0.47217956],\n",
       "       [ 0.35610035],\n",
       "       [-0.43503079],\n",
       "       [-1.15874381],\n",
       "       [ 0.25428521],\n",
       "       [-0.13646478],\n",
       "       [-0.75973853],\n",
       "       [-1.26606247],\n",
       "       [-1.37888465],\n",
       "       [ 0.03552025],\n",
       "       [ 0.44553257],\n",
       "       [ 1.37837938],\n",
       "       [ 2.61804749],\n",
       "       [ 0.0534067 ],\n",
       "       [ 1.32609593],\n",
       "       [ 0.17998768],\n",
       "       [ 0.92571478],\n",
       "       [ 0.38499384],\n",
       "       [ 0.45791549],\n",
       "       [ 0.07542078],\n",
       "       [-0.66893044],\n",
       "       [ 1.39351407],\n",
       "       [ 0.73859506],\n",
       "       [ 2.43092778],\n",
       "       [-0.52583889],\n",
       "       [-0.69644804],\n",
       "       [ 0.79225439],\n",
       "       [ 0.40975968],\n",
       "       [-0.03189788],\n",
       "       [ 0.85141724],\n",
       "       [ 0.18824296],\n",
       "       [ 2.95101051],\n",
       "       [-0.01401144],\n",
       "       [-0.71158273],\n",
       "       [-0.07730193],\n",
       "       [-0.01263556],\n",
       "       [-0.48043484],\n",
       "       [ 0.01763381],\n",
       "       [ 0.0671655 ],\n",
       "       [ 2.42542426],\n",
       "       [ 0.97937411],\n",
       "       [ 0.43727729],\n",
       "       [-1.29770771],\n",
       "       [ 0.57211355],\n",
       "       [ 0.71107746],\n",
       "       [ 1.01101935],\n",
       "       [ 0.04239965],\n",
       "       [-0.87944012],\n",
       "       [-0.95098589],\n",
       "       [-0.83128431],\n",
       "       [-1.15186441],\n",
       "       [ 0.57073767],\n",
       "       [-1.13260208],\n",
       "       [-0.42402375],\n",
       "       [ 0.47580194],\n",
       "       [ 0.73997094],\n",
       "       [ 2.24655982],\n",
       "       [ 0.71107746],\n",
       "       [-0.68131336],\n",
       "       [ 0.28455458],\n",
       "       [-1.25918307],\n",
       "       [ 0.3038169 ],\n",
       "       [-0.51070421],\n",
       "       [-1.02390754],\n",
       "       [ 0.88168661],\n",
       "       [-0.28643573],\n",
       "       [-0.57674646]])"
      ]
     },
     "execution_count": 24,
     "metadata": {},
     "output_type": "execute_result"
    }
   ],
   "source": [
    "X_train"
   ]
  },
  {
   "cell_type": "code",
   "execution_count": 25,
   "id": "fd1f1a57",
   "metadata": {},
   "outputs": [
    {
     "data": {
      "text/plain": [
       "array([[-0.74735561],\n",
       "       [-0.79551142],\n",
       "       [ 0.80326144],\n",
       "       [-0.66893044],\n",
       "       [-0.38137146],\n",
       "       [-0.2534146 ],\n",
       "       [-1.13672972],\n",
       "       [ 0.01075441],\n",
       "       [ 0.68218397],\n",
       "       [-0.57124294],\n",
       "       [-0.71846213],\n",
       "       [-1.14911265],\n",
       "       [ 0.08917958],\n",
       "       [-0.37449206],\n",
       "       [-0.17086179],\n",
       "       [-0.11445069],\n",
       "       [ 1.41415227],\n",
       "       [-1.14636089],\n",
       "       [-0.76111441],\n",
       "       [ 2.27958095],\n",
       "       [-0.20113115],\n",
       "       [ 0.50744718],\n",
       "       [-0.50657657],\n",
       "       [-0.94135473],\n",
       "       [-1.14085737],\n",
       "       [ 1.5723785 ],\n",
       "       [ 1.015147  ],\n",
       "       [-0.33459154],\n",
       "       [-0.78450438],\n",
       "       [ 1.08531689],\n",
       "       [-1.02803518],\n",
       "       [ 0.75648151],\n",
       "       [-1.38713993],\n",
       "       [ 0.4785537 ],\n",
       "       [-0.53271829],\n",
       "       [ 0.08642782],\n",
       "       [ 0.66429753],\n",
       "       [-1.05004927],\n",
       "       [ 1.42791107],\n",
       "       [ 0.27767518],\n",
       "       [-0.77349734],\n",
       "       [-0.85467427],\n",
       "       [-0.73772445],\n",
       "       [ 1.53247797],\n",
       "       [ 0.69731866],\n",
       "       [ 1.34535826],\n",
       "       [-1.51922444],\n",
       "       [ 0.46617077],\n",
       "       [-0.43365491],\n",
       "       [-0.32083273],\n",
       "       [-0.17911707],\n",
       "       [-0.2396558 ],\n",
       "       [-1.06655983],\n",
       "       [-0.25616636],\n",
       "       [ 2.30021915],\n",
       "       [-0.85742603],\n",
       "       [ 2.34011968],\n",
       "       [-0.96061705],\n",
       "       [ 0.23502289],\n",
       "       [-1.23992074],\n",
       "       [ 0.2831787 ],\n",
       "       [-0.88494364],\n",
       "       [ 0.95736002],\n",
       "       [ 0.64365933],\n",
       "       [ 2.28233271],\n",
       "       [-1.0899498 ],\n",
       "       [-1.44355102],\n",
       "       [-0.59325702],\n",
       "       [-0.35247798],\n",
       "       [-0.18186883],\n",
       "       [-0.93722709],\n",
       "       [ 2.10759592],\n",
       "       [ 0.14283891],\n",
       "       [-0.1350889 ],\n",
       "       [ 0.15522184],\n",
       "       [-0.34972622],\n",
       "       [-1.37613289],\n",
       "       [-0.65104399],\n",
       "       [-0.76661794],\n",
       "       [-1.29358007],\n",
       "       [ 0.33408627],\n",
       "       [-0.36623678],\n",
       "       [-1.04179399],\n",
       "       [ 1.41827991],\n",
       "       [-0.96061705],\n",
       "       [-1.09958096],\n",
       "       [ 0.87343133],\n",
       "       [-1.08444627],\n",
       "       [ 0.15659772],\n",
       "       [ 0.55009947],\n",
       "       [-1.00739698],\n",
       "       [-1.07894275],\n",
       "       [ 0.70282218],\n",
       "       [-0.07317429],\n",
       "       [ 0.21438469],\n",
       "       [ 0.04239965],\n",
       "       [-0.45291724],\n",
       "       [-0.66067516],\n",
       "       [-1.21377902],\n",
       "       [ 0.00525089],\n",
       "       [ 0.37536268],\n",
       "       [ 0.81014084],\n",
       "       [-0.98400702],\n",
       "       [-0.83953959],\n",
       "       [ 2.45569362],\n",
       "       [-0.08555721],\n",
       "       [ 0.57761707],\n",
       "       [-1.0266593 ],\n",
       "       [ 0.02588909],\n",
       "       [-0.72809329],\n",
       "       [-1.34861528],\n",
       "       [-0.53959769],\n",
       "       [ 1.17750087],\n",
       "       [-0.89319892],\n",
       "       [-0.71158273],\n",
       "       [-1.38851581],\n",
       "       [-0.44328608],\n",
       "       [-0.17498943],\n",
       "       [-1.51096915],\n",
       "       [-0.75973853],\n",
       "       [-0.41164083],\n",
       "       [ 0.79087851],\n",
       "       [-1.1174674 ],\n",
       "       [ 0.16898064],\n",
       "       [-0.47493132],\n",
       "       [-0.00575615],\n",
       "       [-0.60288819],\n",
       "       [-0.53409417],\n",
       "       [ 0.23777465],\n",
       "       [-1.05555279],\n",
       "       [ 0.16347712],\n",
       "       [-0.3579815 ],\n",
       "       [-0.92897181],\n",
       "       [ 1.74986705],\n",
       "       [-0.7900079 ],\n",
       "       [-0.82990843],\n",
       "       [ 1.9067174 ],\n",
       "       [ 0.83215492],\n",
       "       [-0.74322797],\n",
       "       [ 0.58449648],\n",
       "       [-1.01702814],\n",
       "       [ 0.75648151],\n",
       "       [ 0.78399911],\n",
       "       [-0.9083336 ],\n",
       "       [-1.32522532],\n",
       "       [-0.52308713],\n",
       "       [-0.79275966],\n",
       "       [ 1.14998326],\n",
       "       [-0.86843307],\n",
       "       [ 0.68355985],\n",
       "       [-0.46392428],\n",
       "       [ 0.9518565 ]])"
      ]
     },
     "execution_count": 25,
     "metadata": {},
     "output_type": "execute_result"
    }
   ],
   "source": [
    "X_test"
   ]
  },
  {
   "cell_type": "code",
   "execution_count": 26,
   "id": "3445df73",
   "metadata": {},
   "outputs": [],
   "source": [
    "#model perform with lr algo\n",
    "from sklearn.linear_model import LinearRegression"
   ]
  },
  {
   "cell_type": "code",
   "execution_count": 27,
   "id": "50c3386c",
   "metadata": {},
   "outputs": [],
   "source": [
    "#create object of lr \n",
    "lr=LinearRegression()"
   ]
  },
  {
   "cell_type": "code",
   "execution_count": 28,
   "id": "b7bffef9",
   "metadata": {},
   "outputs": [
    {
     "data": {
      "text/html": [
       "<style>#sk-container-id-1 {color: black;background-color: white;}#sk-container-id-1 pre{padding: 0;}#sk-container-id-1 div.sk-toggleable {background-color: white;}#sk-container-id-1 label.sk-toggleable__label {cursor: pointer;display: block;width: 100%;margin-bottom: 0;padding: 0.3em;box-sizing: border-box;text-align: center;}#sk-container-id-1 label.sk-toggleable__label-arrow:before {content: \"▸\";float: left;margin-right: 0.25em;color: #696969;}#sk-container-id-1 label.sk-toggleable__label-arrow:hover:before {color: black;}#sk-container-id-1 div.sk-estimator:hover label.sk-toggleable__label-arrow:before {color: black;}#sk-container-id-1 div.sk-toggleable__content {max-height: 0;max-width: 0;overflow: hidden;text-align: left;background-color: #f0f8ff;}#sk-container-id-1 div.sk-toggleable__content pre {margin: 0.2em;color: black;border-radius: 0.25em;background-color: #f0f8ff;}#sk-container-id-1 input.sk-toggleable__control:checked~div.sk-toggleable__content {max-height: 200px;max-width: 100%;overflow: auto;}#sk-container-id-1 input.sk-toggleable__control:checked~label.sk-toggleable__label-arrow:before {content: \"▾\";}#sk-container-id-1 div.sk-estimator input.sk-toggleable__control:checked~label.sk-toggleable__label {background-color: #d4ebff;}#sk-container-id-1 div.sk-label input.sk-toggleable__control:checked~label.sk-toggleable__label {background-color: #d4ebff;}#sk-container-id-1 input.sk-hidden--visually {border: 0;clip: rect(1px 1px 1px 1px);clip: rect(1px, 1px, 1px, 1px);height: 1px;margin: -1px;overflow: hidden;padding: 0;position: absolute;width: 1px;}#sk-container-id-1 div.sk-estimator {font-family: monospace;background-color: #f0f8ff;border: 1px dotted black;border-radius: 0.25em;box-sizing: border-box;margin-bottom: 0.5em;}#sk-container-id-1 div.sk-estimator:hover {background-color: #d4ebff;}#sk-container-id-1 div.sk-parallel-item::after {content: \"\";width: 100%;border-bottom: 1px solid gray;flex-grow: 1;}#sk-container-id-1 div.sk-label:hover label.sk-toggleable__label {background-color: #d4ebff;}#sk-container-id-1 div.sk-serial::before {content: \"\";position: absolute;border-left: 1px solid gray;box-sizing: border-box;top: 0;bottom: 0;left: 50%;z-index: 0;}#sk-container-id-1 div.sk-serial {display: flex;flex-direction: column;align-items: center;background-color: white;padding-right: 0.2em;padding-left: 0.2em;position: relative;}#sk-container-id-1 div.sk-item {position: relative;z-index: 1;}#sk-container-id-1 div.sk-parallel {display: flex;align-items: stretch;justify-content: center;background-color: white;position: relative;}#sk-container-id-1 div.sk-item::before, #sk-container-id-1 div.sk-parallel-item::before {content: \"\";position: absolute;border-left: 1px solid gray;box-sizing: border-box;top: 0;bottom: 0;left: 50%;z-index: -1;}#sk-container-id-1 div.sk-parallel-item {display: flex;flex-direction: column;z-index: 1;position: relative;background-color: white;}#sk-container-id-1 div.sk-parallel-item:first-child::after {align-self: flex-end;width: 50%;}#sk-container-id-1 div.sk-parallel-item:last-child::after {align-self: flex-start;width: 50%;}#sk-container-id-1 div.sk-parallel-item:only-child::after {width: 0;}#sk-container-id-1 div.sk-dashed-wrapped {border: 1px dashed gray;margin: 0 0.4em 0.5em 0.4em;box-sizing: border-box;padding-bottom: 0.4em;background-color: white;}#sk-container-id-1 div.sk-label label {font-family: monospace;font-weight: bold;display: inline-block;line-height: 1.2em;}#sk-container-id-1 div.sk-label-container {text-align: center;}#sk-container-id-1 div.sk-container {/* jupyter's `normalize.less` sets `[hidden] { display: none; }` but bootstrap.min.css set `[hidden] { display: none !important; }` so we also need the `!important` here to be able to override the default hidden behavior on the sphinx rendered scikit-learn.org. See: https://github.com/scikit-learn/scikit-learn/issues/21755 */display: inline-block !important;position: relative;}#sk-container-id-1 div.sk-text-repr-fallback {display: none;}</style><div id=\"sk-container-id-1\" class=\"sk-top-container\"><div class=\"sk-text-repr-fallback\"><pre>LinearRegression()</pre><b>In a Jupyter environment, please rerun this cell to show the HTML representation or trust the notebook. <br />On GitHub, the HTML representation is unable to render, please try loading this page with nbviewer.org.</b></div><div class=\"sk-container\" hidden><div class=\"sk-item\"><div class=\"sk-estimator sk-toggleable\"><input class=\"sk-toggleable__control sk-hidden--visually\" id=\"sk-estimator-id-1\" type=\"checkbox\" checked><label for=\"sk-estimator-id-1\" class=\"sk-toggleable__label sk-toggleable__label-arrow\">LinearRegression</label><div class=\"sk-toggleable__content\"><pre>LinearRegression()</pre></div></div></div></div></div>"
      ],
      "text/plain": [
       "LinearRegression()"
      ]
     },
     "execution_count": 28,
     "metadata": {},
     "output_type": "execute_result"
    }
   ],
   "source": [
    "#to train model , we use fit()\n",
    "lr.fit(X_train,Y_train)"
   ]
  },
  {
   "cell_type": "code",
   "execution_count": 29,
   "id": "c48c1cfe",
   "metadata": {},
   "outputs": [
    {
     "name": "stdout",
     "output_type": "stream",
     "text": [
      "slope :  [-6.66258272]\n",
      "intercept :  22.339830508474574\n"
     ]
    }
   ],
   "source": [
    "#check slope \n",
    "m=lr.coef_\n",
    "print('slope : ',m)\n",
    "#check intercept\n",
    "c=lr.intercept_\n",
    "print('intercept : ',c)"
   ]
  },
  {
   "cell_type": "code",
   "execution_count": 30,
   "id": "3972d366",
   "metadata": {},
   "outputs": [
    {
     "data": {
      "text/plain": [
       "array([27.31914909, 27.63999115, 16.98803475, 26.79663488, 24.88074943,\n",
       "       24.02822625, 29.91338632, 22.26817837, 17.79472336, 26.14578384,\n",
       "       27.12664386, 29.99588857, 21.74566416, 24.83491485, 23.47821128,\n",
       "       23.10236773, 12.91792404, 29.97755474, 27.41081825,  7.15193387,\n",
       "       23.67988344, 18.95892169, 25.71493879, 28.61168425, 29.94088707,\n",
       "       11.8637287 , 15.57632968, 24.56907429, 27.56665583, 15.10881697,\n",
       "       29.18919996, 17.29970989, 31.58176504, 19.15142693, 25.8891102 ,\n",
       "       21.76399799, 17.91389327, 29.33587062, 12.82625488, 20.48979666,\n",
       "       27.4933205 , 28.03416854, 27.25498068, 12.12956926, 17.69388728,\n",
       "       13.37626984, 32.46178898, 19.23392917, 25.22909224, 24.47740513,\n",
       "       23.53321278, 23.93655709, 29.44587361, 24.04656008,  7.01443013,\n",
       "       28.05250237,  6.74858956, 28.74002108, 20.77397106, 30.60090503,\n",
       "       20.453129  , 28.23584069, 15.96134016, 18.05139701,  7.13360004,\n",
       "       29.60171118, 31.9576086 , 26.2924545 , 24.6882442 , 23.55154661,\n",
       "       28.5841835 ,  8.29779837, 21.38815443, 23.23987147, 21.30565219,\n",
       "       24.66991037, 31.50842971, 26.67746497, 27.44748592, 30.95841475,\n",
       "       20.11395311, 24.77991336, 29.28086912, 12.89042329, 28.74002108,\n",
       "       29.66587959, 16.52052203, 29.56504352, 21.29648527, 18.67474729,\n",
       "       29.05169622, 29.52837585, 17.65721962, 22.82736025, 20.9114748 ,\n",
       "       22.0573393 , 25.35742907, 26.74163338, 30.42673362, 22.30484604,\n",
       "       19.83894563, 16.94220017, 28.89585865, 27.93333247,  5.97856862,\n",
       "       22.90986249, 18.49140897, 29.18003304, 22.1673423 , 27.19081227,\n",
       "       31.32509139, 25.93494478, 14.49463359, 28.29084219, 27.08080928,\n",
       "       31.59093196, 25.29326066, 23.50571203, 32.40678748, 27.40165134,\n",
       "       25.08242159, 17.07053699, 29.7850495 , 21.21398303, 25.50409972,\n",
       "       22.37818136, 26.35662291, 25.89827711, 20.75563723, 29.37253828,\n",
       "       21.25065069, 24.72491186, 28.52918201, 10.68119653, 27.60332349,\n",
       "       27.86916405,  9.63616811, 16.79552951, 27.29164835, 18.44557439,\n",
       "       29.11586463, 17.29970989, 17.11637157, 28.39167827, 31.16925382,\n",
       "       25.82494178, 27.62165732, 14.67797191, 28.1258377 , 17.78555644,\n",
       "       25.4307644 , 15.99800782])"
      ]
     },
     "execution_count": 30,
     "metadata": {},
     "output_type": "execute_result"
    }
   ],
   "source": [
    "#to test model with 30% data , we use predict()\n",
    "Y_pred=lr.predict(X_test)\n",
    "Y_pred"
   ]
  },
  {
   "cell_type": "code",
   "execution_count": 31,
   "id": "fa2dd0b0",
   "metadata": {},
   "outputs": [
    {
     "data": {
      "text/html": [
       "<div>\n",
       "<style scoped>\n",
       "    .dataframe tbody tr th:only-of-type {\n",
       "        vertical-align: middle;\n",
       "    }\n",
       "\n",
       "    .dataframe tbody tr th {\n",
       "        vertical-align: top;\n",
       "    }\n",
       "\n",
       "    .dataframe thead th {\n",
       "        text-align: right;\n",
       "    }\n",
       "</style>\n",
       "<table border=\"1\" class=\"dataframe\">\n",
       "  <thead>\n",
       "    <tr style=\"text-align: right;\">\n",
       "      <th></th>\n",
       "      <th>Actual output</th>\n",
       "      <th>Predicted output</th>\n",
       "      <th>Input</th>\n",
       "    </tr>\n",
       "  </thead>\n",
       "  <tbody>\n",
       "    <tr>\n",
       "      <th>307</th>\n",
       "      <td>28.2</td>\n",
       "      <td>27.319149</td>\n",
       "      <td>-0.747356</td>\n",
       "    </tr>\n",
       "    <tr>\n",
       "      <th>343</th>\n",
       "      <td>23.9</td>\n",
       "      <td>27.639991</td>\n",
       "      <td>-0.795511</td>\n",
       "    </tr>\n",
       "    <tr>\n",
       "      <th>47</th>\n",
       "      <td>16.6</td>\n",
       "      <td>16.988035</td>\n",
       "      <td>0.803261</td>\n",
       "    </tr>\n",
       "    <tr>\n",
       "      <th>67</th>\n",
       "      <td>22.0</td>\n",
       "      <td>26.796635</td>\n",
       "      <td>-0.668930</td>\n",
       "    </tr>\n",
       "    <tr>\n",
       "      <th>362</th>\n",
       "      <td>20.8</td>\n",
       "      <td>24.880749</td>\n",
       "      <td>-0.381371</td>\n",
       "    </tr>\n",
       "  </tbody>\n",
       "</table>\n",
       "</div>"
      ],
      "text/plain": [
       "     Actual output  Predicted output     Input\n",
       "307           28.2         27.319149 -0.747356\n",
       "343           23.9         27.639991 -0.795511\n",
       "47            16.6         16.988035  0.803261\n",
       "67            22.0         26.796635 -0.668930\n",
       "362           20.8         24.880749 -0.381371"
      ]
     },
     "execution_count": 31,
     "metadata": {},
     "output_type": "execute_result"
    }
   ],
   "source": [
    "#to compare Y_pred and Y_test\n",
    "#create a dict\n",
    "dict={'Actual output':Y_test,'Predicted output':Y_pred}\n",
    "#convert into df1\n",
    "df1=pd.DataFrame(dict)\n",
    "#to add new col X_test \n",
    "df1['Input']=X_test\n",
    "df1.head()"
   ]
  },
  {
   "cell_type": "code",
   "execution_count": 32,
   "id": "86035205",
   "metadata": {},
   "outputs": [
    {
     "name": "stdout",
     "output_type": "stream",
     "text": [
      "mean_squared_error :  42.620243471539716\n"
     ]
    }
   ],
   "source": [
    "#evaluation of model \n",
    "#find mse\n",
    "from sklearn.metrics import mean_squared_error\n",
    "mse=mean_squared_error(Y_test,Y_pred)\n",
    "print('mean_squared_error : ',mse)"
   ]
  },
  {
   "cell_type": "code",
   "execution_count": 33,
   "id": "06f756b3",
   "metadata": {},
   "outputs": [
    {
     "name": "stdout",
     "output_type": "stream",
     "text": [
      "root_mean_squared_error :  6.528418144661057\n"
     ]
    }
   ],
   "source": [
    "#to find root_mean_squared_error\n",
    "rmse=np.sqrt(mse)\n",
    "print('root_mean_squared_error : ',rmse)"
   ]
  },
  {
   "cell_type": "code",
   "execution_count": 34,
   "id": "f52fadfd",
   "metadata": {},
   "outputs": [
    {
     "name": "stdout",
     "output_type": "stream",
     "text": [
      "r2_score :  0.5349901044757203\n"
     ]
    }
   ],
   "source": [
    "#to check accuracy , we use r2_score\n",
    "from sklearn.metrics import r2_score\n",
    "print(\"r2_score : \",r2_score(Y_test,Y_pred))"
   ]
  },
  {
   "cell_type": "code",
   "execution_count": 36,
   "id": "c9824343",
   "metadata": {},
   "outputs": [
    {
     "data": {
      "text/plain": [
       "[<matplotlib.lines.Line2D at 0x21b74963580>]"
      ]
     },
     "execution_count": 36,
     "metadata": {},
     "output_type": "execute_result"
    },
    {
     "data": {
      "image/png": "[encoded data removed]",
      "text/plain": [
       "<Figure size 432x288 with 1 Axes>"
      ]
     },
     "metadata": {
      "needs_background": "light"
     },
     "output_type": "display_data"
    }
   ],
   "source": [
    "#to visualize and see the best fit line that machine made\n",
    "sb.scatterplot(data=df,x='lstat',y='medv')\n",
    "plt.plot(X_test,Y_pred,c='green') "
   ]
  },
  {
   "cell_type": "markdown",
   "id": "5eadc43a",
   "metadata": {},
   "source": [
    "# second method : Regularization"
   ]
  },
  {
   "cell_type": "code",
   "execution_count": 38,
   "id": "c0380e66",
   "metadata": {},
   "outputs": [
    {
     "data": {
      "text/html": [
       "<div>\n",
       "<style scoped>\n",
       "    .dataframe tbody tr th:only-of-type {\n",
       "        vertical-align: middle;\n",
       "    }\n",
       "\n",
       "    .dataframe tbody tr th {\n",
       "        vertical-align: top;\n",
       "    }\n",
       "\n",
       "    .dataframe thead th {\n",
       "        text-align: right;\n",
       "    }\n",
       "</style>\n",
       "<table border=\"1\" class=\"dataframe\">\n",
       "  <thead>\n",
       "    <tr style=\"text-align: right;\">\n",
       "      <th></th>\n",
       "      <th>lstat</th>\n",
       "      <th>medv</th>\n",
       "    </tr>\n",
       "  </thead>\n",
       "  <tbody>\n",
       "    <tr>\n",
       "      <th>0</th>\n",
       "      <td>4.98</td>\n",
       "      <td>24.0</td>\n",
       "    </tr>\n",
       "    <tr>\n",
       "      <th>1</th>\n",
       "      <td>9.14</td>\n",
       "      <td>21.6</td>\n",
       "    </tr>\n",
       "    <tr>\n",
       "      <th>2</th>\n",
       "      <td>4.03</td>\n",
       "      <td>34.7</td>\n",
       "    </tr>\n",
       "    <tr>\n",
       "      <th>3</th>\n",
       "      <td>2.94</td>\n",
       "      <td>33.4</td>\n",
       "    </tr>\n",
       "    <tr>\n",
       "      <th>4</th>\n",
       "      <td>5.33</td>\n",
       "      <td>36.2</td>\n",
       "    </tr>\n",
       "  </tbody>\n",
       "</table>\n",
       "</div>"
      ],
      "text/plain": [
       "   lstat  medv\n",
       "0   4.98  24.0\n",
       "1   9.14  21.6\n",
       "2   4.03  34.7\n",
       "3   2.94  33.4\n",
       "4   5.33  36.2"
      ]
     },
     "execution_count": 38,
     "metadata": {},
     "output_type": "execute_result"
    }
   ],
   "source": [
    "df.head()"
   ]
  },
  {
   "cell_type": "code",
   "execution_count": 40,
   "id": "1d4df054",
   "metadata": {},
   "outputs": [],
   "source": [
    "#Load dataset BostonHousing.csv file\n",
    "df=pd.read_csv(\"BostonHousing.csv\")"
   ]
  },
  {
   "cell_type": "code",
   "execution_count": 42,
   "id": "7203c06b",
   "metadata": {},
   "outputs": [
    {
     "data": {
      "text/html": [
       "<div>\n",
       "<style scoped>\n",
       "    .dataframe tbody tr th:only-of-type {\n",
       "        vertical-align: middle;\n",
       "    }\n",
       "\n",
       "    .dataframe tbody tr th {\n",
       "        vertical-align: top;\n",
       "    }\n",
       "\n",
       "    .dataframe thead th {\n",
       "        text-align: right;\n",
       "    }\n",
       "</style>\n",
       "<table border=\"1\" class=\"dataframe\">\n",
       "  <thead>\n",
       "    <tr style=\"text-align: right;\">\n",
       "      <th></th>\n",
       "      <th>crim</th>\n",
       "      <th>zn</th>\n",
       "      <th>indus</th>\n",
       "      <th>chas</th>\n",
       "      <th>nox</th>\n",
       "      <th>rm</th>\n",
       "      <th>age</th>\n",
       "      <th>dis</th>\n",
       "      <th>rad</th>\n",
       "      <th>tax</th>\n",
       "      <th>ptratio</th>\n",
       "      <th>b</th>\n",
       "      <th>lstat</th>\n",
       "      <th>medv</th>\n",
       "    </tr>\n",
       "  </thead>\n",
       "  <tbody>\n",
       "    <tr>\n",
       "      <th>0</th>\n",
       "      <td>0.00632</td>\n",
       "      <td>18.0</td>\n",
       "      <td>2.31</td>\n",
       "      <td>0</td>\n",
       "      <td>0.538</td>\n",
       "      <td>6.575</td>\n",
       "      <td>65.2</td>\n",
       "      <td>4.0900</td>\n",
       "      <td>1</td>\n",
       "      <td>296</td>\n",
       "      <td>15.3</td>\n",
       "      <td>396.90</td>\n",
       "      <td>4.98</td>\n",
       "      <td>24.0</td>\n",
       "    </tr>\n",
       "    <tr>\n",
       "      <th>1</th>\n",
       "      <td>0.02731</td>\n",
       "      <td>0.0</td>\n",
       "      <td>7.07</td>\n",
       "      <td>0</td>\n",
       "      <td>0.469</td>\n",
       "      <td>6.421</td>\n",
       "      <td>78.9</td>\n",
       "      <td>4.9671</td>\n",
       "      <td>2</td>\n",
       "      <td>242</td>\n",
       "      <td>17.8</td>\n",
       "      <td>396.90</td>\n",
       "      <td>9.14</td>\n",
       "      <td>21.6</td>\n",
       "    </tr>\n",
       "    <tr>\n",
       "      <th>2</th>\n",
       "      <td>0.02729</td>\n",
       "      <td>0.0</td>\n",
       "      <td>7.07</td>\n",
       "      <td>0</td>\n",
       "      <td>0.469</td>\n",
       "      <td>7.185</td>\n",
       "      <td>61.1</td>\n",
       "      <td>4.9671</td>\n",
       "      <td>2</td>\n",
       "      <td>242</td>\n",
       "      <td>17.8</td>\n",
       "      <td>392.83</td>\n",
       "      <td>4.03</td>\n",
       "      <td>34.7</td>\n",
       "    </tr>\n",
       "    <tr>\n",
       "      <th>3</th>\n",
       "      <td>0.03237</td>\n",
       "      <td>0.0</td>\n",
       "      <td>2.18</td>\n",
       "      <td>0</td>\n",
       "      <td>0.458</td>\n",
       "      <td>6.998</td>\n",
       "      <td>45.8</td>\n",
       "      <td>6.0622</td>\n",
       "      <td>3</td>\n",
       "      <td>222</td>\n",
       "      <td>18.7</td>\n",
       "      <td>394.63</td>\n",
       "      <td>2.94</td>\n",
       "      <td>33.4</td>\n",
       "    </tr>\n",
       "    <tr>\n",
       "      <th>4</th>\n",
       "      <td>0.06905</td>\n",
       "      <td>0.0</td>\n",
       "      <td>2.18</td>\n",
       "      <td>0</td>\n",
       "      <td>0.458</td>\n",
       "      <td>7.147</td>\n",
       "      <td>54.2</td>\n",
       "      <td>6.0622</td>\n",
       "      <td>3</td>\n",
       "      <td>222</td>\n",
       "      <td>18.7</td>\n",
       "      <td>396.90</td>\n",
       "      <td>5.33</td>\n",
       "      <td>36.2</td>\n",
       "    </tr>\n",
       "  </tbody>\n",
       "</table>\n",
       "</div>"
      ],
      "text/plain": [
       "      crim    zn  indus  chas    nox     rm   age     dis  rad  tax  ptratio  \\\n",
       "0  0.00632  18.0   2.31     0  0.538  6.575  65.2  4.0900    1  296     15.3   \n",
       "1  0.02731   0.0   7.07     0  0.469  6.421  78.9  4.9671    2  242     17.8   \n",
       "2  0.02729   0.0   7.07     0  0.469  7.185  61.1  4.9671    2  242     17.8   \n",
       "3  0.03237   0.0   2.18     0  0.458  6.998  45.8  6.0622    3  222     18.7   \n",
       "4  0.06905   0.0   2.18     0  0.458  7.147  54.2  6.0622    3  222     18.7   \n",
       "\n",
       "        b  lstat  medv  \n",
       "0  396.90   4.98  24.0  \n",
       "1  396.90   9.14  21.6  \n",
       "2  392.83   4.03  34.7  \n",
       "3  394.63   2.94  33.4  \n",
       "4  396.90   5.33  36.2  "
      ]
     },
     "execution_count": 42,
     "metadata": {},
     "output_type": "execute_result"
    }
   ],
   "source": [
    "df.head()"
   ]
  },
  {
   "cell_type": "code",
   "execution_count": 44,
   "id": "681d880a",
   "metadata": {},
   "outputs": [
    {
     "data": {
      "text/plain": [
       "crim       0\n",
       "zn         0\n",
       "indus      0\n",
       "chas       0\n",
       "nox        0\n",
       "rm         0\n",
       "age        0\n",
       "dis        0\n",
       "rad        0\n",
       "tax        0\n",
       "ptratio    0\n",
       "b          0\n",
       "lstat      0\n",
       "medv       0\n",
       "dtype: int64"
      ]
     },
     "execution_count": 44,
     "metadata": {},
     "output_type": "execute_result"
    }
   ],
   "source": [
    "#to see the null values\n",
    "df.isnull().sum()"
   ]
  },
  {
   "cell_type": "code",
   "execution_count": 46,
   "id": "7f9e134d",
   "metadata": {},
   "outputs": [
    {
     "data": {
      "text/plain": [
       "crim       float64\n",
       "zn         float64\n",
       "indus      float64\n",
       "chas         int64\n",
       "nox        float64\n",
       "rm         float64\n",
       "age        float64\n",
       "dis        float64\n",
       "rad          int64\n",
       "tax          int64\n",
       "ptratio    float64\n",
       "b          float64\n",
       "lstat      float64\n",
       "medv       float64\n",
       "dtype: object"
      ]
     },
     "execution_count": 46,
     "metadata": {},
     "output_type": "execute_result"
    }
   ],
   "source": [
    "#to see dtypes\n",
    "df.dtypes"
   ]
  },
  {
   "cell_type": "code",
   "execution_count": 48,
   "id": "5e363f77",
   "metadata": {},
   "outputs": [],
   "source": [
    "#select input and output\n",
    "X=df.drop('medv',axis=1)\n",
    "Y=df['medv']"
   ]
  },
  {
   "cell_type": "code",
   "execution_count": 50,
   "id": "d4cbd695",
   "metadata": {},
   "outputs": [
    {
     "data": {
      "text/plain": [
       "Index(['crim', 'zn', 'indus', 'chas', 'nox', 'rm', 'age', 'dis', 'rad', 'tax',\n",
       "       'ptratio', 'b', 'lstat'],\n",
       "      dtype='object')"
      ]
     },
     "execution_count": 50,
     "metadata": {},
     "output_type": "execute_result"
    }
   ],
   "source": [
    "#to check medv dropped or not \n",
    "X.columns"
   ]
  },
  {
   "cell_type": "code",
   "execution_count": 54,
   "id": "78e5f7f9",
   "metadata": {},
   "outputs": [],
   "source": [
    "#train_test_split\n",
    "from sklearn.model_selection import train_test_split\n",
    "X_train,X_test,Y_train,Y_test=train_test_split(X,Y,test_size=0.3,random_state=1)"
   ]
  },
  {
   "cell_type": "code",
   "execution_count": 56,
   "id": "b2978eca",
   "metadata": {},
   "outputs": [
    {
     "data": {
      "text/plain": [
       "((354, 13), (152, 13))"
      ]
     },
     "execution_count": 56,
     "metadata": {},
     "output_type": "execute_result"
    }
   ],
   "source": [
    "X_train.shape,X_test.shape"
   ]
  },
  {
   "cell_type": "code",
   "execution_count": 59,
   "id": "33de5ba3",
   "metadata": {},
   "outputs": [],
   "source": [
    "#apply StandardScaler on X_train and X_test\n",
    "from sklearn.preprocessing import StandardScaler\n",
    "#create object of StandardScaler\n",
    "ss=StandardScaler()\n",
    "X_train=ss.fit_transform(X_train)\n",
    "X_test=ss.transform(X_test)"
   ]
  },
  {
   "cell_type": "code",
   "execution_count": 61,
   "id": "d0c933f4",
   "metadata": {},
   "outputs": [
    {
     "data": {
      "text/plain": [
       "array([[-0.36571739, -0.48366069, -0.46209575, ...,  1.18880212,\n",
       "         0.43987709, -0.64691635],\n",
       "       [-0.4195265 ,  0.58018848, -0.90151022, ...,  0.58247746,\n",
       "         0.231398  ,  0.20337764],\n",
       "       [ 0.71430973, -0.48366069,  0.99191363, ...,  0.81567925,\n",
       "         0.43987709,  1.13897622],\n",
       "       ...,\n",
       "       [ 0.25011703, -0.48366069,  0.99191363, ...,  0.81567925,\n",
       "         0.43987709,  0.88168661],\n",
       "       [-0.40087863, -0.48366069, -0.74530641, ..., -0.49025077,\n",
       "         0.21666488, -0.28643573],\n",
       "       [-0.43028363, -0.48366069, -0.78034278, ...,  0.34927567,\n",
       "         0.43987709, -0.57674646]])"
      ]
     },
     "execution_count": 61,
     "metadata": {},
     "output_type": "execute_result"
    }
   ],
   "source": [
    "X_train"
   ]
  },
  {
   "cell_type": "code",
   "execution_count": 63,
   "id": "67ddb2a4",
   "metadata": {},
   "outputs": [
    {
     "data": {
      "text/plain": [
       "array([[-0.43390418,  0.92062021, -1.33216561, ..., -0.02384719,\n",
       "         0.43987709, -0.74735561],\n",
       "       [-0.43671065,  1.85680748, -1.09858981, ..., -0.39697005,\n",
       "         0.43987709, -0.79551142],\n",
       "       [-0.41276468, -0.48366069, -0.64165714, ..., -0.25704898,\n",
       "         0.39379457,  0.80326144],\n",
       "       ...,\n",
       "       [-0.42877408, -0.48366069,  2.09409945, ...,  0.30263532,\n",
       "         0.23150877,  0.68355985],\n",
       "       [-0.37624897,  0.36741864, -1.07085268, ..., -2.54242652,\n",
       "         0.39445922, -0.46392428],\n",
       "       [-0.32358288, -0.48366069, -0.46209575, ...,  1.18880212,\n",
       "         0.41373412,  0.9518565 ]])"
      ]
     },
     "execution_count": 63,
     "metadata": {},
     "output_type": "execute_result"
    }
   ],
   "source": [
    "X_test"
   ]
  },
  {
   "cell_type": "code",
   "execution_count": 68,
   "id": "3fd06bc2",
   "metadata": {},
   "outputs": [
    {
     "data": {
      "text/html": [
       "<style>#sk-container-id-3 {color: black;background-color: white;}#sk-container-id-3 pre{padding: 0;}#sk-container-id-3 div.sk-toggleable {background-color: white;}#sk-container-id-3 label.sk-toggleable__label {cursor: pointer;display: block;width: 100%;margin-bottom: 0;padding: 0.3em;box-sizing: border-box;text-align: center;}#sk-container-id-3 label.sk-toggleable__label-arrow:before {content: \"▸\";float: left;margin-right: 0.25em;color: #696969;}#sk-container-id-3 label.sk-toggleable__label-arrow:hover:before {color: black;}#sk-container-id-3 div.sk-estimator:hover label.sk-toggleable__label-arrow:before {color: black;}#sk-container-id-3 div.sk-toggleable__content {max-height: 0;max-width: 0;overflow: hidden;text-align: left;background-color: #f0f8ff;}#sk-container-id-3 div.sk-toggleable__content pre {margin: 0.2em;color: black;border-radius: 0.25em;background-color: #f0f8ff;}#sk-container-id-3 input.sk-toggleable__control:checked~div.sk-toggleable__content {max-height: 200px;max-width: 100%;overflow: auto;}#sk-container-id-3 input.sk-toggleable__control:checked~label.sk-toggleable__label-arrow:before {content: \"▾\";}#sk-container-id-3 div.sk-estimator input.sk-toggleable__control:checked~label.sk-toggleable__label {background-color: #d4ebff;}#sk-container-id-3 div.sk-label input.sk-toggleable__control:checked~label.sk-toggleable__label {background-color: #d4ebff;}#sk-container-id-3 input.sk-hidden--visually {border: 0;clip: rect(1px 1px 1px 1px);clip: rect(1px, 1px, 1px, 1px);height: 1px;margin: -1px;overflow: hidden;padding: 0;position: absolute;width: 1px;}#sk-container-id-3 div.sk-estimator {font-family: monospace;background-color: #f0f8ff;border: 1px dotted black;border-radius: 0.25em;box-sizing: border-box;margin-bottom: 0.5em;}#sk-container-id-3 div.sk-estimator:hover {background-color: #d4ebff;}#sk-container-id-3 div.sk-parallel-item::after {content: \"\";width: 100%;border-bottom: 1px solid gray;flex-grow: 1;}#sk-container-id-3 div.sk-label:hover label.sk-toggleable__label {background-color: #d4ebff;}#sk-container-id-3 div.sk-serial::before {content: \"\";position: absolute;border-left: 1px solid gray;box-sizing: border-box;top: 0;bottom: 0;left: 50%;z-index: 0;}#sk-container-id-3 div.sk-serial {display: flex;flex-direction: column;align-items: center;background-color: white;padding-right: 0.2em;padding-left: 0.2em;position: relative;}#sk-container-id-3 div.sk-item {position: relative;z-index: 1;}#sk-container-id-3 div.sk-parallel {display: flex;align-items: stretch;justify-content: center;background-color: white;position: relative;}#sk-container-id-3 div.sk-item::before, #sk-container-id-3 div.sk-parallel-item::before {content: \"\";position: absolute;border-left: 1px solid gray;box-sizing: border-box;top: 0;bottom: 0;left: 50%;z-index: -1;}#sk-container-id-3 div.sk-parallel-item {display: flex;flex-direction: column;z-index: 1;position: relative;background-color: white;}#sk-container-id-3 div.sk-parallel-item:first-child::after {align-self: flex-end;width: 50%;}#sk-container-id-3 div.sk-parallel-item:last-child::after {align-self: flex-start;width: 50%;}#sk-container-id-3 div.sk-parallel-item:only-child::after {width: 0;}#sk-container-id-3 div.sk-dashed-wrapped {border: 1px dashed gray;margin: 0 0.4em 0.5em 0.4em;box-sizing: border-box;padding-bottom: 0.4em;background-color: white;}#sk-container-id-3 div.sk-label label {font-family: monospace;font-weight: bold;display: inline-block;line-height: 1.2em;}#sk-container-id-3 div.sk-label-container {text-align: center;}#sk-container-id-3 div.sk-container {/* jupyter's `normalize.less` sets `[hidden] { display: none; }` but bootstrap.min.css set `[hidden] { display: none !important; }` so we also need the `!important` here to be able to override the default hidden behavior on the sphinx rendered scikit-learn.org. See: https://github.com/scikit-learn/scikit-learn/issues/21755 */display: inline-block !important;position: relative;}#sk-container-id-3 div.sk-text-repr-fallback {display: none;}</style><div id=\"sk-container-id-3\" class=\"sk-top-container\"><div class=\"sk-text-repr-fallback\"><pre>LinearRegression()</pre><b>In a Jupyter environment, please rerun this cell to show the HTML representation or trust the notebook. <br />On GitHub, the HTML representation is unable to render, please try loading this page with nbviewer.org.</b></div><div class=\"sk-container\" hidden><div class=\"sk-item\"><div class=\"sk-estimator sk-toggleable\"><input class=\"sk-toggleable__control sk-hidden--visually\" id=\"sk-estimator-id-3\" type=\"checkbox\" checked><label for=\"sk-estimator-id-3\" class=\"sk-toggleable__label sk-toggleable__label-arrow\">LinearRegression</label><div class=\"sk-toggleable__content\"><pre>LinearRegression()</pre></div></div></div></div></div>"
      ],
      "text/plain": [
       "LinearRegression()"
      ]
     },
     "execution_count": 68,
     "metadata": {},
     "output_type": "execute_result"
    }
   ],
   "source": [
    "#train model using LinearRegression\n",
    "from sklearn.linear_model import LinearRegression\n",
    "#create object \n",
    "lr=LinearRegression()\n",
    "#train data\n",
    "lr.fit(X_train,Y_train)"
   ]
  },
  {
   "cell_type": "code",
   "execution_count": 70,
   "id": "6d58d006",
   "metadata": {},
   "outputs": [
    {
     "data": {
      "text/html": [
       "<div>\n",
       "<style scoped>\n",
       "    .dataframe tbody tr th:only-of-type {\n",
       "        vertical-align: middle;\n",
       "    }\n",
       "\n",
       "    .dataframe tbody tr th {\n",
       "        vertical-align: top;\n",
       "    }\n",
       "\n",
       "    .dataframe thead th {\n",
       "        text-align: right;\n",
       "    }\n",
       "</style>\n",
       "<table border=\"1\" class=\"dataframe\">\n",
       "  <thead>\n",
       "    <tr style=\"text-align: right;\">\n",
       "      <th></th>\n",
       "      <th>column</th>\n",
       "      <th>slope_lr</th>\n",
       "    </tr>\n",
       "  </thead>\n",
       "  <tbody>\n",
       "    <tr>\n",
       "      <th>0</th>\n",
       "      <td>crim</td>\n",
       "      <td>-0.838843</td>\n",
       "    </tr>\n",
       "    <tr>\n",
       "      <th>1</th>\n",
       "      <td>zn</td>\n",
       "      <td>1.428401</td>\n",
       "    </tr>\n",
       "    <tr>\n",
       "      <th>2</th>\n",
       "      <td>indus</td>\n",
       "      <td>0.405327</td>\n",
       "    </tr>\n",
       "    <tr>\n",
       "      <th>3</th>\n",
       "      <td>chas</td>\n",
       "      <td>0.679425</td>\n",
       "    </tr>\n",
       "    <tr>\n",
       "      <th>4</th>\n",
       "      <td>nox</td>\n",
       "      <td>-2.530391</td>\n",
       "    </tr>\n",
       "    <tr>\n",
       "      <th>5</th>\n",
       "      <td>rm</td>\n",
       "      <td>1.933816</td>\n",
       "    </tr>\n",
       "    <tr>\n",
       "      <th>6</th>\n",
       "      <td>age</td>\n",
       "      <td>0.100907</td>\n",
       "    </tr>\n",
       "    <tr>\n",
       "      <th>7</th>\n",
       "      <td>dis</td>\n",
       "      <td>-3.236154</td>\n",
       "    </tr>\n",
       "    <tr>\n",
       "      <th>8</th>\n",
       "      <td>rad</td>\n",
       "      <td>2.703183</td>\n",
       "    </tr>\n",
       "    <tr>\n",
       "      <th>9</th>\n",
       "      <td>tax</td>\n",
       "      <td>-1.917299</td>\n",
       "    </tr>\n",
       "    <tr>\n",
       "      <th>10</th>\n",
       "      <td>ptratio</td>\n",
       "      <td>-2.155786</td>\n",
       "    </tr>\n",
       "    <tr>\n",
       "      <th>11</th>\n",
       "      <td>b</td>\n",
       "      <td>0.582276</td>\n",
       "    </tr>\n",
       "    <tr>\n",
       "      <th>12</th>\n",
       "      <td>lstat</td>\n",
       "      <td>-4.134332</td>\n",
       "    </tr>\n",
       "  </tbody>\n",
       "</table>\n",
       "</div>"
      ],
      "text/plain": [
       "     column  slope_lr\n",
       "0      crim -0.838843\n",
       "1        zn  1.428401\n",
       "2     indus  0.405327\n",
       "3      chas  0.679425\n",
       "4       nox -2.530391\n",
       "5        rm  1.933816\n",
       "6       age  0.100907\n",
       "7       dis -3.236154\n",
       "8       rad  2.703183\n",
       "9       tax -1.917299\n",
       "10  ptratio -2.155786\n",
       "11        b  0.582276\n",
       "12    lstat -4.134332"
      ]
     },
     "execution_count": 70,
     "metadata": {},
     "output_type": "execute_result"
    }
   ],
   "source": [
    "dict={'column':X.columns,'slope_lr':lr.coef_}\n",
    "df1=pd.DataFrame(dict)\n",
    "df1"
   ]
  },
  {
   "cell_type": "code",
   "execution_count": 72,
   "id": "28ba5cb5",
   "metadata": {},
   "outputs": [
    {
     "data": {
      "text/plain": [
       "22.339830508474574"
      ]
     },
     "execution_count": 72,
     "metadata": {},
     "output_type": "execute_result"
    }
   ],
   "source": [
    "#check intercept\n",
    "lr.intercept_"
   ]
  },
  {
   "cell_type": "code",
   "execution_count": 75,
   "id": "784762ef",
   "metadata": {},
   "outputs": [
    {
     "data": {
      "text/plain": [
       "array([32.3914647 , 27.94401279, 17.83762764, 21.66941388, 18.93639614,\n",
       "       20.01995795, 32.63414961, 17.86179976, 24.73211676, 26.77346826,\n",
       "       27.26138023, 28.63243014, 21.16103038, 27.15098589, 23.33198614,\n",
       "       21.02894005, 17.11819755, 37.52455938, 30.69864427,  8.46104486,\n",
       "       20.83966032, 16.26732451, 25.05030307, 24.8069032 , 31.6789299 ,\n",
       "       10.98989363, 13.54111562, 16.54697099, 35.86699683, 14.69589266,\n",
       "       21.05655107, 13.90301353, 43.01321262, 17.80335305, 21.68817023,\n",
       "       20.45077825, 17.38095983, 26.81334904, 10.08706217, 19.96174586,\n",
       "       24.1983249 , 21.00202622, 29.38682967, 16.33215467, 19.37439646,\n",
       "       14.45525235, 39.52670798, 18.18535021, 26.38536303, 20.41420863,\n",
       "       25.08511581, 24.40208165, 24.87902769, 26.97887956,  4.93921657,\n",
       "       24.0001365 , 10.66711602, 26.98494775, 16.63507993, 35.31652989,\n",
       "       19.49249915, 27.37577863, 16.53965715, 19.09746715, 11.06765336,\n",
       "       32.03445261, 36.15847648, 21.53547868, 24.96434626, 25.50601154,\n",
       "       23.41203509,  7.20513615, 16.8659937 , 20.06269471, 20.61979368,\n",
       "       21.97238475, 34.25908683, 27.9998298 , 24.95261644, 34.74201458,\n",
       "       18.63786454, 23.95355085, 34.50655345, 13.15979729, 20.53691051,\n",
       "       30.29844955, 16.932953  , 24.29285934, 19.11800155, 16.9848188 ,\n",
       "       26.80165303, 40.90027245, 14.43790215, 23.20589688, 15.39439519,\n",
       "       21.77332361, 22.85660249, 29.45718412, 36.54373379, 20.36577747,\n",
       "       18.01790611, 17.41615519, 25.23381893, 21.98069747,  8.3160445 ,\n",
       "       21.49942727, 16.565317  , 33.22680671, 24.39944797, 24.99055027,\n",
       "       38.37532568, 28.82033178, 14.76287071, 34.72063358, 35.40686066,\n",
       "       32.93299015, 20.95996646, 16.74324182, 34.54769634, 38.9463732 ,\n",
       "       21.47971843, 15.54203787, 27.46719043, 18.62729405, 27.3819011 ,\n",
       "       21.13549164, 26.24403323, 22.22010257, 23.34295812, 28.29923408,\n",
       "       20.53788412, 23.94639233, 29.8421088 , 10.55075792, 27.02280253,\n",
       "       32.41641579, 13.94180705, 13.62057726, 33.00870341, 14.2836798 ,\n",
       "       17.70899424, 16.30194776, 17.14377392, 28.71467061, 34.07548297,\n",
       "       20.31288796, 24.55801246, 17.32995936, 28.3602341 , 20.79422791,\n",
       "       33.6981572 , 13.51882716])"
      ]
     },
     "execution_count": 75,
     "metadata": {},
     "output_type": "execute_result"
    }
   ],
   "source": [
    "#test the model\n",
    "Y_pred=lr.predict(X_test)\n",
    "Y_pred"
   ]
  },
  {
   "cell_type": "code",
   "execution_count": 77,
   "id": "d35e25b0",
   "metadata": {},
   "outputs": [
    {
     "name": "stdout",
     "output_type": "stream",
     "text": [
      "mean_squared_error:  19.831323672063125\n",
      "r2_score:  0.7836295385076293\n"
     ]
    }
   ],
   "source": [
    "#to see mse and r2score\n",
    "from sklearn.metrics import mean_squared_error,r2_score\n",
    "mse=mean_squared_error(Y_test,Y_pred)\n",
    "r2s=r2_score(Y_test,Y_pred)\n",
    "print('mean_squared_error: ',mse)\n",
    "print('r2_score: ',r2s)"
   ]
  },
  {
   "cell_type": "code",
   "execution_count": 78,
   "id": "f3d13fa5",
   "metadata": {},
   "outputs": [],
   "source": [
    "#r2_score is good but not the best"
   ]
  },
  {
   "cell_type": "code",
   "execution_count": 80,
   "id": "c8c8db95",
   "metadata": {},
   "outputs": [
    {
     "name": "stdout",
     "output_type": "stream",
     "text": [
      "Training score:  0.7103879080674731\n",
      "Testing score:  0.7836295385076293\n"
     ]
    }
   ],
   "source": [
    "#check overfit or not \n",
    "#first find training score\n",
    "train_score=lr.score(X_train,Y_train)\n",
    "print(\"Training score: \",train_score)\n",
    "#find testing score\n",
    "test_score=lr.score(X_test,Y_test)\n",
    "print(\"Testing score: \",test_score)"
   ]
  },
  {
   "cell_type": "code",
   "execution_count": 81,
   "id": "81e630ef",
   "metadata": {},
   "outputs": [],
   "source": [
    "#since training is score is less then testing score , our model is underfit "
   ]
  },
  {
   "cell_type": "code",
   "execution_count": 82,
   "id": "dac912ae",
   "metadata": {},
   "outputs": [],
   "source": [
    "#training score>testing score : then model is overfit , apply regularisation\n",
    "#to reduced overfitting\n",
    "#but training score<testing score , then model is underfit so apply\n",
    "#cross validation after train the model"
   ]
  },
  {
   "cell_type": "code",
   "execution_count": 84,
   "id": "a40bd63a",
   "metadata": {},
   "outputs": [],
   "source": [
    "#apply cross validation \n",
    "from sklearn.model_selection import cross_val_score"
   ]
  },
  {
   "cell_type": "code",
   "execution_count": 87,
   "id": "dc400557",
   "metadata": {},
   "outputs": [
    {
     "data": {
      "text/plain": [
       "array([0.49928471, 0.79566051, 0.60481958, 0.71988078, 0.70189495])"
      ]
     },
     "execution_count": 87,
     "metadata": {},
     "output_type": "execute_result"
    }
   ],
   "source": [
    "#to create object\n",
    "lr_score=cross_val_score(lr,X_train,Y_train,cv=5)\n",
    "lr_score"
   ]
  },
  {
   "cell_type": "code",
   "execution_count": 89,
   "id": "f03908f6",
   "metadata": {},
   "outputs": [
    {
     "data": {
      "text/plain": [
       "0.6643081077199131"
      ]
     },
     "execution_count": 89,
     "metadata": {},
     "output_type": "execute_result"
    }
   ],
   "source": [
    "#to see mean/avg\n",
    "lr_score.mean() #testing score"
   ]
  },
  {
   "cell_type": "code",
   "execution_count": 90,
   "id": "2edd61e8",
   "metadata": {},
   "outputs": [],
   "source": [
    "#training score - 71 , testing score - 66"
   ]
  },
  {
   "cell_type": "code",
   "execution_count": 92,
   "id": "30579b40",
   "metadata": {},
   "outputs": [],
   "source": [
    "#check variance\n",
    "#find the residual\n",
    "#residual=Y_pred-Y_test\n",
    "#to find Y_pred\n",
    "Y_pred=lr.predict(X_test)"
   ]
  },
  {
   "cell_type": "code",
   "execution_count": 94,
   "id": "4068db3c",
   "metadata": {},
   "outputs": [
    {
     "data": {
      "text/plain": [
       "307    4.191465\n",
       "343    4.044013\n",
       "47     1.237628\n",
       "67    -0.330586\n",
       "362   -1.863604\n",
       "         ...   \n",
       "467   -1.770041\n",
       "95    -0.039766\n",
       "122    0.294228\n",
       "260   -0.101843\n",
       "23    -0.981173\n",
       "Name: medv, Length: 152, dtype: float64"
      ]
     },
     "execution_count": 94,
     "metadata": {},
     "output_type": "execute_result"
    }
   ],
   "source": [
    "residual=Y_pred-Y_test\n",
    "residual"
   ]
  },
  {
   "cell_type": "code",
   "execution_count": 96,
   "id": "27a055a2",
   "metadata": {},
   "outputs": [
    {
     "data": {
      "image/png": "[encoded data removed]",
      "text/plain": [
       "<Figure size 360x360 with 1 Axes>"
      ]
     },
     "metadata": {
      "needs_background": "light"
     },
     "output_type": "display_data"
    }
   ],
   "source": [
    "sb.displot(residual,kind='kde') #kde means to only see distribution curve\n",
    "plt.show()"
   ]
  },
  {
   "cell_type": "code",
   "execution_count": 100,
   "id": "d237f047",
   "metadata": {},
   "outputs": [
    {
     "data": {
      "text/plain": [
       "array([-34.12809475, -17.98990088, -27.47132784, -28.45214047,\n",
       "       -22.01184618])"
      ]
     },
     "execution_count": 100,
     "metadata": {},
     "output_type": "execute_result"
    }
   ],
   "source": [
    "#to see mse \n",
    "#to create object\n",
    "mse=cross_val_score(lr,X_train,Y_train,cv=5,scoring='neg_mean_squared_error')\n",
    "mse #shown in negative cz we used neg keyword as to minimize error"
   ]
  },
  {
   "cell_type": "code",
   "execution_count": 101,
   "id": "def126da",
   "metadata": {},
   "outputs": [
    {
     "data": {
      "text/plain": [
       "-26.010662023166237"
      ]
     },
     "execution_count": 101,
     "metadata": {},
     "output_type": "execute_result"
    }
   ],
   "source": [
    "#find the mean of mse\n",
    "mse.mean()"
   ]
  }
 ],
 "metadata": {
  "kernelspec": {
   "display_name": "Python 3 (ipykernel)",
   "language": "python",
   "name": "python3"
  },
  "language_info": {
   "codemirror_mode": {
    "name": "ipython",
    "version": 3
   },
   "file_extension": ".py",
   "mimetype": "text/x-python",
   "name": "python",
   "nbconvert_exporter": "python",
   "pygments_lexer": "ipython3",
   "version": "3.9.12"
  }
 },
 "nbformat": 4,
 "nbformat_minor": 5
}
